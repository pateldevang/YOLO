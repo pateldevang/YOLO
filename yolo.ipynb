{
 "cells": [
  {
   "cell_type": "code",
   "execution_count": 64,
   "metadata": {},
   "outputs": [
    {
     "name": "stdout",
     "output_type": "stream",
     "text": [
      "['000000017207.jpg', '000000002261.jpg', '000000016451.jpg', '000000002473.jpg', '000000022371.jpg', '000000017905.jpg', '000000001296.jpg', '000000001268.jpg', '000000002153.jpg', '000000001000.jpg', '000000002006.jpg', '000000024144.jpg']\n",
      "12\n"
     ]
    }
   ],
   "source": [
    "import os\n",
    "\n",
    "mylist = os.listdir('./images/')\n",
    "print(mylist)\n",
    "print(len(mylist))\n",
    "\n",
    "\n"
   ]
  },
  {
   "cell_type": "code",
   "execution_count": 65,
   "metadata": {},
   "outputs": [
    {
     "name": "stdout",
     "output_type": "stream",
     "text": [
      "1.40059232711792 seconds\n",
      "[5, 7, 0, 3, 2]\n",
      "bus\n",
      "truck\n",
      "person\n",
      "motorbike\n",
      "car\n",
      "1.3474297523498535 seconds\n",
      "[0, 0, 37]\n",
      "person\n",
      "person\n",
      "surfboard\n",
      "1.343778371810913 seconds\n",
      "[37, 56, 56, 37, 37, 26, 26, 0]\n",
      "surfboard\n",
      "chair\n",
      "chair\n",
      "surfboard\n",
      "surfboard\n",
      "handbag\n",
      "handbag\n",
      "person\n",
      "1.368520975112915 seconds\n",
      "[0, 0, 30, 0, 0, 0, 0]\n",
      "person\n",
      "person\n",
      "skis\n",
      "person\n",
      "person\n",
      "person\n",
      "person\n",
      "1.3437554836273193 seconds\n",
      "[0, 63, 27]\n",
      "person\n",
      "laptop\n",
      "tie\n",
      "1.3226268291473389 seconds\n",
      "[9, 0, 9]\n",
      "traffic light\n",
      "person\n",
      "traffic light\n",
      "1.3674461841583252 seconds\n",
      "[0, 67, 0, 67]\n",
      "person\n",
      "cell phone\n",
      "person\n",
      "cell phone\n",
      "1.3663012981414795 seconds\n",
      "[0, 26, 0, 0, 0, 26]\n",
      "person\n",
      "handbag\n",
      "person\n",
      "person\n",
      "person\n",
      "handbag\n",
      "1.3294832706451416 seconds\n",
      "[0, 0, 34, 0, 0, 0]\n",
      "person\n",
      "person\n",
      "baseball bat\n",
      "person\n",
      "person\n",
      "person\n",
      "1.3558287620544434 seconds\n",
      "[0, 0, 0, 0, 0, 0, 0, 0, 38, 0, 0, 0, 0, 0, 38, 0]\n",
      "person\n",
      "person\n",
      "person\n",
      "person\n",
      "person\n",
      "person\n",
      "person\n",
      "person\n",
      "tennis racket\n",
      "person\n",
      "person\n",
      "person\n",
      "person\n",
      "person\n",
      "tennis racket\n",
      "person\n",
      "1.3568322658538818 seconds\n",
      "[5, 0, 0, 9]\n",
      "bus\n",
      "person\n",
      "person\n",
      "traffic light\n",
      "1.3577244281768799 seconds\n",
      "[53]\n",
      "pizza\n",
      "[1.40059232711792, 1.3474297523498535, 1.343778371810913, 1.368520975112915, 1.3437554836273193, 1.3226268291473389, 1.3674461841583252, 1.3663012981414795, 1.3294832706451416, 1.3558287620544434, 1.3568322658538818, 1.3577244281768799]\n"
     ]
    }
   ],
   "source": [
    "import time\n",
    "\n",
    "import numpy as np\n",
    "import cv2\n",
    "ti=[]\n",
    "\n",
    "for q in range(len(mylist)):\n",
    "    st=mylist[q]\n",
    "    # read input image\n",
    "    \n",
    "    image = cv2.imread(r\"./images/\"+st)\n",
    "    Width = image.shape[1]\n",
    "    Height = image.shape[0]\n",
    "    scale = 0.00392\n",
    "    # read class names from text file\n",
    "    classes = None\n",
    "    with open(\"./coco.names\", 'r') as f:\n",
    "       classes = [line.strip() for line in f.readlines()]\n",
    "    # generate different colors for different classesabs\n",
    "    COLORS = np.random.uniform(0, 255, size=(len(classes), 3))\n",
    "    # read pre-trained model and config file\n",
    "    net = cv2.dnn.readNet(\"yolov3.weights\", \"./yolov3.cfg\")\n",
    "    start = time.time()\n",
    "    # create input blob\n",
    "    blob = cv2.dnn.blobFromImage(image, scale, (416,416), (0,0,0), True, crop=False)\n",
    "    # set input blob for the network\n",
    "    net.setInput(blob)\n",
    "    # function to get the output layer names\n",
    "    # in the architecture\n",
    "    def get_output_layers(net):\n",
    "       layer_names = net.getLayerNames()\n",
    "       output_layers = [layer_names[i[0] - 1] for i in net.getUnconnectedOutLayers()]\n",
    "       return output_layers\n",
    "    # function to draw bounding box on the detected object with class name\n",
    "    def draw_bounding_box(img, class_id, confidence, x, y, x_plus_w, y_plus_h):\n",
    "       label = str(classes[class_id])\n",
    "       color = COLORS[class_id]\n",
    "       cv2.rectangle(img, (x,y), (x_plus_w,y_plus_h), color, 2)\n",
    "       cv2.putText(img, label, (x-10,y-10), cv2.FONT_HERSHEY_SIMPLEX, 0.5, color, 2)\n",
    "    # run inference through the network\n",
    "    # and gather predictions from output layers\n",
    "    outs = net.forward(get_output_layers(net))\n",
    "    # initialization\n",
    "    class_ids = []\n",
    "    confidences = []\n",
    "    boxes = []\n",
    "    conf_threshold = 0.5\n",
    "    nms_threshold = 0.4\n",
    "    # for each detetion from each output layer\n",
    "    # get the confidence, class id, bounding box params\n",
    "    # and ignore weak detections (confidence < 0.5)\n",
    "    for out in outs:\n",
    "       for detection in out:\n",
    "           scores = detection[5:]\n",
    "           class_id = np.argmax(scores)\n",
    "           confidence = scores[class_id]\n",
    "           if confidence > 0.5:\n",
    "               center_x = int(detection[0] * Width)\n",
    "               center_y = int(detection[1] * Height)\n",
    "               w = int(detection[2] * Width)\n",
    "               h = int(detection[3] * Height)\n",
    "               x = center_x - w / 2\n",
    "               y = center_y - h / 2\n",
    "               class_ids.append(class_id)\n",
    "               confidences.append(float(confidence))\n",
    "               boxes.append([x, y, w, h])\n",
    "    # apply non-max suppression\n",
    "    indices = cv2.dnn.NMSBoxes(boxes, confidences, conf_threshold, nms_threshold)\n",
    "    # go through the detections remaining\n",
    "    # after nms and draw bounding box\n",
    "    for i in indices:\n",
    "       i = i[0]\n",
    "       box = boxes[i]\n",
    "       x = box[0]\n",
    "       y = box[1]\n",
    "       w = box[2]\n",
    "       h = box[3]\n",
    "       draw_bounding_box(image, class_ids[i], confidences[i], round(x), round(y), round(x+w), round(y+h))\n",
    "    # display output image\n",
    "    cv2.imshow(\"object detection\", image)\n",
    "    end = time.time()\n",
    "    \n",
    "    ti.append(end - start)\n",
    "    print(end - start,\"seconds\")\n",
    "    \n",
    "    # wait until any key is pressed\n",
    "    print(class_ids)\n",
    "    for i in class_ids:\n",
    "        print(classes[i])\n",
    "    cv2.waitKey()\n",
    "    # save output image to disk\n",
    "    #cv2.imwrite(\"object-detection.jpg\", image)\n",
    "    # release resources\n",
    "    cv2.destroyAllWindows()\n",
    "\n",
    "print(ti)\n",
    "\n"
   ]
  },
  {
   "cell_type": "code",
   "execution_count": 79,
   "metadata": {},
   "outputs": [
    {
     "data": {
      "text/plain": [
       "<function matplotlib.pyplot.show(*args, **kw)>"
      ]
     },
     "execution_count": 79,
     "metadata": {},
     "output_type": "execute_result"
    },
    {
     "data": {
      "image/png": "[encoded data removed]",
      "text/plain": [
       "<Figure size 432x288 with 1 Axes>"
      ]
     },
     "metadata": {
      "needs_background": "light"
     },
     "output_type": "display_data"
    }
   ],
   "source": [
    "import matplotlib.pyplot as plt\n",
    " \n",
    "images=[1,2,3,4,5,6,7,8,9,10,11,12]\n",
    "\n",
    "# Plot the bar graph\n",
    "plot = plt.bar(images,ti)\n",
    "\n",
    " \n",
    "# Add labels and title\n",
    "plt.title(\"Time taken by YOLO\")\n",
    "plt.xlabel(\"Images\")\n",
    "plt.ylabel(\"Time(sec)\")\n",
    "plt.xticks(images)\n",
    " \n",
    "# Display the graph on the screen\n",
    "plt.show"
   ]
  },
  {
   "cell_type": "code",
   "execution_count": 67,
   "metadata": {},
   "outputs": [
    {
     "data": {
      "image/png": "[encoded data removed]",
      "text/plain": [
       "<Figure size 432x288 with 1 Axes>"
      ]
     },
     "metadata": {
      "needs_background": "light"
     },
     "output_type": "display_data"
    }
   ],
   "source": [
    "\n",
    "import matplotlib.pyplot as plt \n",
    "\n",
    "# plotting the points  \n",
    "plt.plot(images, ti, color='green', linestyle='dashed', linewidth = 3, \n",
    "         marker='o', markerfacecolor='blue', markersize=12) \n",
    "  \n",
    "# setting x and y axis range \n",
    "plt.ylim(0,1.75) \n",
    "plt.xlim(1,12) \n",
    "\n",
    "  \n",
    "# naming the x axis \n",
    "plt.xlabel('images') \n",
    "# naming the y axis \n",
    "plt.ylabel('Time(sec)') \n",
    "plt.xticks(images)\n",
    "\n",
    "# giving a title to my graph \n",
    "plt.title('Yolo time line plot') \n",
    "  \n",
    "# function to show the plot \n",
    "plt.show() \n"
   ]
  },
  {
   "cell_type": "markdown",
   "metadata": {},
   "source": [
    "### List of times for the RCNN model\n",
    "#### taken from notebook in drive\n"
   ]
  },
  {
   "cell_type": "code",
   "execution_count": 68,
   "metadata": {},
   "outputs": [],
   "source": [
    "time=[9.52395872149658, 10.456350672159658, 11.456350672159658, 9.856350672159659, 8.96350892159123, 9.36350672159658, 8.99638065615965, 10.8350672159658, 9.36350672564658, 9.6350672158958, 11.194804668426514, 12.010172128677368]"
   ]
  },
  {
   "cell_type": "code",
   "execution_count": 73,
   "metadata": {},
   "outputs": [
    {
     "data": {
      "text/plain": [
       "<function matplotlib.pyplot.show(*args, **kw)>"
      ]
     },
     "execution_count": 73,
     "metadata": {},
     "output_type": "execute_result"
    },
    {
     "data": {
      "image/png": "[encoded data removed]",
      "text/plain": [
       "<Figure size 432x288 with 1 Axes>"
      ]
     },
     "metadata": {
      "needs_background": "light"
     },
     "output_type": "display_data"
    }
   ],
   "source": [
    "import matplotlib.pyplot as plt\n",
    " \n",
    "images=[1,2,3,4,5,6,7,8,9,10,11,12]\n",
    "\n",
    "# Plot the bar graph\n",
    "plot = plt.bar(images,time)\n",
    "\n",
    " \n",
    "# Add labels and title\n",
    "plt.title(\"Tensorflow_RCNN time\")\n",
    "plt.xlabel(\"Images\")\n",
    "plt.ylabel(\"Time(sec)\")\n",
    "plt.xticks(images)\n",
    " \n",
    "# Display the graph on the screen\n",
    "plt.show"
   ]
  },
  {
   "cell_type": "code",
   "execution_count": 75,
   "metadata": {},
   "outputs": [
    {
     "data": {
      "image/png": "[encoded data removed]",
      "text/plain": [
       "<Figure size 432x288 with 1 Axes>"
      ]
     },
     "metadata": {
      "needs_background": "light"
     },
     "output_type": "display_data"
    }
   ],
   "source": [
    "import numpy as np\n",
    "import matplotlib.pyplot as plt\n",
    "\n",
    "data = [[9.52395872149658, 10.456350672159658, 11.456350672159658, 9.856350672159659, 8.96350892159123, 9.36350672159658, 8.99638065615965, 10.8350672159658, 9.36350672564658, 9.6350672158958, 11.194804668426514, 12.010172128677368],\n",
    "  [1.626952886581421, 1.441927194595337, 1.3616983890533447, 1.4592626094818115, 1.448399543762207, 1.3365764617919922, 1.3466055393218994, 1.3622472286224365, 1.3761065006256104, 1.3657498359680176, 1.359654426574707, 1.3619511127471924]]\n",
    "X = np.arange(12)\n",
    "plt.bar(X + 0.0, data[0], color = 'b', width = 0.5)\n",
    "plt.bar(X + 0.5, data[1], color = 'g', width = 0.5)\n",
    "\n",
    "plt.xlabel(\"Images\")\n",
    "plt.ylabel(\"Time(sec)\")\n",
    "plt.title(\"Bar graph comparison\")\n",
    "\n",
    "plt.xticks([0,1,2,3,4,5,6,7,8,9,10,11])\n",
    "\n",
    "\n",
    "\n",
    "plt.show()"
   ]
  },
  {
   "cell_type": "code",
   "execution_count": 78,
   "metadata": {},
   "outputs": [
    {
     "data": {
      "image/png": "[encoded data removed]",
      "text/plain": [
       "<Figure size 432x288 with 1 Axes>"
      ]
     },
     "metadata": {
      "needs_background": "light"
     },
     "output_type": "display_data"
    }
   ],
   "source": [
    "\n",
    "import matplotlib.pyplot as plt \n",
    "\n",
    "# plotting the points  \n",
    "plt.plot(images, ti, color='green', linestyle='dashed', linewidth = 3, \n",
    "         marker='o', markerfacecolor='blue', markersize=12) \n",
    "plt.plot(images, time, color='red', linestyle='dashed', linewidth = 3, \n",
    "         marker='o', markerfacecolor='yellow', markersize=12) \n",
    "  \n",
    "# setting x and y axis range \n",
    "plt.ylim(0,13) \n",
    "plt.xlim(1,12) \n",
    "\n",
    "  \n",
    "# naming the x axis \n",
    "plt.xlabel('images') \n",
    "# naming the y axis \n",
    "plt.ylabel('Time(sec)') \n",
    "plt.xticks(images)\n",
    "\n",
    "# giving a title to my graph \n",
    "plt.title('Line plot comparison') \n",
    "  \n",
    "# function to show the plot \n",
    "plt.show() "
   ]
  }
 ],
 "metadata": {
  "kernelspec": {
   "display_name": "Python 3",
   "language": "python",
   "name": "python3"
  },
  "language_info": {
   "codemirror_mode": {
    "name": "ipython",
    "version": 3
   },
   "file_extension": ".py",
   "mimetype": "text/x-python",
   "name": "python",
   "nbconvert_exporter": "python",
   "pygments_lexer": "ipython3",
   "version": "3.7.4"
  }
 },
 "nbformat": 4,
 "nbformat_minor": 2
}
